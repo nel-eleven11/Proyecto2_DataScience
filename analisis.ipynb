{
 "cells": [
  {
   "cell_type": "markdown",
   "id": "871405d0",
   "metadata": {},
   "source": [
    "# Proyecto 2 Data Science\n",
    "## Análisis Exploratorio\n",
    "\n",
    "Autores:\n",
    "\n",
    "- Nelson García Bravatti\n",
    "- Joaquín Puente\n",
    "- José Antonio Mérida\n",
    "\n"
   ]
  },
  {
   "cell_type": "markdown",
   "id": "5368f225",
   "metadata": {},
   "source": [
    "## Preprocesamiento de datos\n",
    "\n",
    "\n",
    "\n"
   ]
  },
  {
   "cell_type": "code",
   "execution_count": null,
   "id": "a6508b76",
   "metadata": {
    "vscode": {
     "languageId": "plaintext"
    }
   },
   "outputs": [],
   "source": [
    "dataset_path = "
   ]
  }
 ],
 "metadata": {
  "language_info": {
   "name": "python"
  }
 },
 "nbformat": 4,
 "nbformat_minor": 5
}
